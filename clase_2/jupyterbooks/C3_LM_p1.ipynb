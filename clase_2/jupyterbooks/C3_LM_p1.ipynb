{
 "cells": [
  {
   "cell_type": "code",
   "execution_count": 3,
   "id": "1b685255",
   "metadata": {},
   "outputs": [],
   "source": [
    "import numpy as np\n",
    "import matplotlib.pyplot as plt\n",
    "import pandas as pd\n",
    "import seaborn as sns\n",
    "\n",
    "from sklearn.linear_model import LinearRegression\n",
    "from sklearn.model_selection import train_test_split\n",
    "from sklearn.preprocessing import StandardScaler"
   ]
  },
  {
   "cell_type": "markdown",
   "id": "6a59df26",
   "metadata": {},
   "source": [
    "## Income dataset"
   ]
  },
  {
   "cell_type": "code",
   "execution_count": 4,
   "id": "05c6ca1f",
   "metadata": {},
   "outputs": [],
   "source": [
    "income = np.loadtxt('data/income.csv',\n",
    "                    converters = {0: lambda x: float(x)},\n",
    "                    skiprows = 1,\n",
    "                    usecols = [1,2],\n",
    "                    delimiter = ',',\n",
    "                    encoding = 'utf-8')"
   ]
  },
  {
   "cell_type": "code",
   "execution_count": 5,
   "id": "de657f8c",
   "metadata": {},
   "outputs": [
    {
     "data": {
      "image/png": "[encoded data removed]",
      "text/plain": [
       "<Figure size 640x480 with 1 Axes>"
      ]
     },
     "metadata": {},
     "output_type": "display_data"
    }
   ],
   "source": [
    "f ,ax = plt.subplots()\n",
    "ax.scatter(income[:,0],income[:,1], s= 10)\n",
    "ax.set_xlabel('Income')\n",
    "ax.set_ylabel('Happiness')\n",
    "plt.show()"
   ]
  },
  {
   "cell_type": "markdown",
   "id": "737d723b",
   "metadata": {},
   "source": [
    "## Ordenada = 0"
   ]
  },
  {
   "cell_type": "code",
   "execution_count": null,
   "id": "7c04a5e6",
   "metadata": {},
   "outputs": [],
   "source": [
    "x,y = income[:,0], income[:,1]"
   ]
  },
  {
   "cell_type": "code",
   "execution_count": null,
   "id": "664a33a3",
   "metadata": {},
   "outputs": [],
   "source": [
    "x.shape, y.shape"
   ]
  },
  {
   "cell_type": "code",
   "execution_count": null,
   "id": "c1e2b2d5",
   "metadata": {},
   "outputs": [],
   "source": [
    "x = x.reshape((498,1))\n",
    "y = y.reshape((498,1))"
   ]
  },
  {
   "cell_type": "code",
   "execution_count": null,
   "id": "8a1c8db5",
   "metadata": {},
   "outputs": [],
   "source": [
    "b = np.dot(np.dot(x.T,x)**(-1), np.dot(x.T,y))"
   ]
  },
  {
   "cell_type": "code",
   "execution_count": null,
   "id": "8dd0aaf1",
   "metadata": {},
   "outputs": [],
   "source": [
    "b.shape"
   ]
  },
  {
   "cell_type": "code",
   "execution_count": null,
   "id": "b60f5e3d",
   "metadata": {},
   "outputs": [],
   "source": [
    "xspace = np.linspace(0,8,240)\n",
    "y_hat =  (xspace * b).reshape((240,1))"
   ]
  },
  {
   "cell_type": "code",
   "execution_count": null,
   "id": "60435d80",
   "metadata": {},
   "outputs": [],
   "source": [
    "y_hat.shape, xspace.shape"
   ]
  },
  {
   "cell_type": "code",
   "execution_count": null,
   "id": "26b57ee3",
   "metadata": {},
   "outputs": [],
   "source": [
    "f, ax = plt.subplots()\n",
    "ax.scatter(income[:,0],income[:,1],s=10)\n",
    "ax.plot(xspace,y_hat, color='red')\n",
    "\n",
    "ax.set_xlabel('Income')\n",
    "ax.set_ylabel('Happiness')\n",
    "plt.show()"
   ]
  },
  {
   "cell_type": "markdown",
   "id": "6fe77507",
   "metadata": {},
   "source": [
    "$y = b x$"
   ]
  },
  {
   "cell_type": "code",
   "execution_count": null,
   "id": "f7e2fd87",
   "metadata": {},
   "outputs": [],
   "source": [
    "b"
   ]
  },
  {
   "cell_type": "code",
   "execution_count": null,
   "id": "0d01a054",
   "metadata": {},
   "outputs": [],
   "source": [
    "lr_income = LinearRegression(fit_intercept=False)"
   ]
  },
  {
   "cell_type": "code",
   "execution_count": null,
   "id": "a4f22e59",
   "metadata": {},
   "outputs": [],
   "source": [
    "lr_income.fit(x,y)"
   ]
  },
  {
   "cell_type": "code",
   "execution_count": null,
   "id": "6a217526",
   "metadata": {},
   "outputs": [],
   "source": [
    "lr_income.coef_"
   ]
  },
  {
   "cell_type": "code",
   "execution_count": null,
   "id": "bd69ef48",
   "metadata": {},
   "outputs": [],
   "source": [
    "lr_income.score(x,y)"
   ]
  },
  {
   "cell_type": "markdown",
   "id": "14edf4ec",
   "metadata": {},
   "source": [
    "## Ordenada $\\neq$ 0"
   ]
  },
  {
   "cell_type": "code",
   "execution_count": null,
   "id": "ee30a09a",
   "metadata": {},
   "outputs": [],
   "source": [
    "# Subimos los datos 3 unidades\n",
    "y2 = y + 3"
   ]
  },
  {
   "cell_type": "code",
   "execution_count": null,
   "id": "f0f413f2",
   "metadata": {
    "scrolled": true
   },
   "outputs": [],
   "source": [
    "f ,ax = plt.subplots()\n",
    "ax.scatter(x,y2, s=10)\n",
    "ax.set_ylim(0,10)\n",
    "ax.set_xlabel('Income')\n",
    "ax.set_ylabel('Happiness')\n",
    "plt.show()"
   ]
  },
  {
   "cell_type": "code",
   "execution_count": null,
   "id": "f7cde3f6",
   "metadata": {},
   "outputs": [],
   "source": [
    "lr_inc2 = LinearRegression(fit_intercept=True)"
   ]
  },
  {
   "cell_type": "code",
   "execution_count": null,
   "id": "bec2d551",
   "metadata": {},
   "outputs": [],
   "source": [
    "lr_inc2.fit(x,y2)"
   ]
  },
  {
   "cell_type": "code",
   "execution_count": null,
   "id": "8847300e",
   "metadata": {},
   "outputs": [],
   "source": [
    "lr_inc2.coef_"
   ]
  },
  {
   "cell_type": "code",
   "execution_count": null,
   "id": "f4ccdbaa",
   "metadata": {},
   "outputs": [],
   "source": [
    "lr_inc2.intercept_"
   ]
  },
  {
   "cell_type": "code",
   "execution_count": null,
   "id": "1b0d0e4d",
   "metadata": {},
   "outputs": [],
   "source": [
    "yhat2 = lr_inc2.predict(xspace.reshape(240,1))"
   ]
  },
  {
   "cell_type": "code",
   "execution_count": null,
   "id": "3cdae4f0",
   "metadata": {},
   "outputs": [],
   "source": [
    "f ,ax = plt.subplots()\n",
    "ax.scatter(x,y2,s=10)\n",
    "ax.plot(xspace,yhat2, color='red')\n",
    "ax.plot(xspace,y_hat, color='green')\n",
    "ax.plot(xspace,np.mean(y2)*np.ones(xspace.shape[0]), color='orange')\n",
    "\n",
    "ax.set_ylim(0,10)\n",
    "\n",
    "ax.set_xlabel('Income')\n",
    "ax.set_ylabel('Happiness')\n",
    "plt.show()"
   ]
  },
  {
   "cell_type": "markdown",
   "id": "20a9268b",
   "metadata": {},
   "source": [
    "**Coeficiente de determinación $R^2$**"
   ]
  },
  {
   "cell_type": "code",
   "execution_count": null,
   "id": "62655edb",
   "metadata": {},
   "outputs": [],
   "source": [
    "lr_income.score(x,y)"
   ]
  },
  {
   "cell_type": "code",
   "execution_count": null,
   "id": "2163c87b",
   "metadata": {},
   "outputs": [],
   "source": [
    "lr_inc2.score(x,y)"
   ]
  },
  {
   "cell_type": "code",
   "execution_count": null,
   "id": "97cf8840",
   "metadata": {},
   "outputs": [],
   "source": [
    "lr_inc2.score(x,y2)"
   ]
  },
  {
   "cell_type": "markdown",
   "id": "62ffc622",
   "metadata": {},
   "source": [
    "# Possum"
   ]
  },
  {
   "cell_type": "markdown",
   "id": "264f8946",
   "metadata": {},
   "source": [
    "<img src='data/dataset-cover.jpg'>"
   ]
  },
  {
   "cell_type": "code",
   "execution_count": null,
   "id": "f912344e",
   "metadata": {},
   "outputs": [],
   "source": [
    "df = pd.read_csv('data/possum.csv')"
   ]
  },
  {
   "cell_type": "code",
   "execution_count": null,
   "id": "ac66889d",
   "metadata": {},
   "outputs": [],
   "source": [
    "df.head()"
   ]
  },
  {
   "cell_type": "markdown",
   "id": "1046a940",
   "metadata": {},
   "source": [
    "Para este ejemplo, solo conservaremos variables numéricas y el indicador de sexo."
   ]
  },
  {
   "cell_type": "code",
   "execution_count": null,
   "id": "e2af3040",
   "metadata": {},
   "outputs": [],
   "source": [
    "df = df.loc[:,'sex':]"
   ]
  },
  {
   "cell_type": "code",
   "execution_count": null,
   "id": "fe31f666",
   "metadata": {},
   "outputs": [],
   "source": [
    "df.head()"
   ]
  },
  {
   "cell_type": "markdown",
   "id": "98775511",
   "metadata": {},
   "source": [
    "# Preprocessing"
   ]
  },
  {
   "cell_type": "markdown",
   "id": "56ca4409",
   "metadata": {},
   "source": [
    "## Missing"
   ]
  },
  {
   "cell_type": "code",
   "execution_count": null,
   "id": "9da3d46a",
   "metadata": {},
   "outputs": [],
   "source": [
    "df.isna().sum()"
   ]
  },
  {
   "cell_type": "code",
   "execution_count": null,
   "id": "0388b79e",
   "metadata": {},
   "outputs": [],
   "source": [
    "len(df)"
   ]
  },
  {
   "cell_type": "code",
   "execution_count": null,
   "id": "c9ab61cf",
   "metadata": {},
   "outputs": [],
   "source": [
    "# Se eliminan 3 filas con Nan\n",
    "df = df[df.isna().sum(axis=1) == 0]"
   ]
  },
  {
   "cell_type": "code",
   "execution_count": null,
   "id": "5306863a",
   "metadata": {},
   "outputs": [],
   "source": [
    "len(df)"
   ]
  },
  {
   "cell_type": "code",
   "execution_count": null,
   "id": "4becf517",
   "metadata": {},
   "outputs": [],
   "source": [
    "df.isna().sum()"
   ]
  },
  {
   "cell_type": "markdown",
   "id": "da920889",
   "metadata": {},
   "source": [
    "# One hot encoding"
   ]
  },
  {
   "cell_type": "code",
   "execution_count": null,
   "id": "85c3d7e3",
   "metadata": {},
   "outputs": [],
   "source": [
    "df.describe(include='O')"
   ]
  },
  {
   "cell_type": "code",
   "execution_count": null,
   "id": "110e07df",
   "metadata": {},
   "outputs": [],
   "source": [
    "## Utilizando get_dummies de pandas, podemos obtener lo que se llama\n",
    "## k-1 one hot encoding. Lo veremos en detalle en Análisis de datos!!\n",
    "df1 = pd.get_dummies(data=df, columns = ['sex'], drop_first=True)"
   ]
  },
  {
   "cell_type": "code",
   "execution_count": null,
   "id": "4f32f9ed",
   "metadata": {},
   "outputs": [],
   "source": [
    "df1"
   ]
  },
  {
   "cell_type": "code",
   "execution_count": null,
   "id": "1c68f9c5",
   "metadata": {},
   "outputs": [],
   "source": [
    "columnas = [col for col in df1.columns if ((col != 'sex_m') & (col != 'totlngth'))]"
   ]
  },
  {
   "cell_type": "code",
   "execution_count": null,
   "id": "54ae10e8",
   "metadata": {},
   "outputs": [],
   "source": [
    "columnas"
   ]
  },
  {
   "cell_type": "code",
   "execution_count": null,
   "id": "47e5569b",
   "metadata": {},
   "outputs": [],
   "source": [
    "sns.pairplot(df1, hue='sex_m',x_vars=columnas,y_vars='totlngth')\n",
    "plt.show()"
   ]
  },
  {
   "cell_type": "code",
   "execution_count": null,
   "id": "4fef7869",
   "metadata": {
    "scrolled": false
   },
   "outputs": [],
   "source": [
    "for columna in columnas:\n",
    "    sns.relplot(x=columna,y='totlngth',hue='sex_m', data=df1)"
   ]
  },
  {
   "cell_type": "markdown",
   "id": "1854a3b9",
   "metadata": {},
   "source": [
    "## Standardize"
   ]
  },
  {
   "cell_type": "code",
   "execution_count": null,
   "id": "3a9e8e3f",
   "metadata": {},
   "outputs": [],
   "source": [
    "x = df1[[col for col in df1.columns if col != 'totlngth']]"
   ]
  },
  {
   "cell_type": "code",
   "execution_count": null,
   "id": "5fb13ca4",
   "metadata": {},
   "outputs": [],
   "source": [
    "y = df1['totlngth']"
   ]
  },
  {
   "cell_type": "markdown",
   "id": "2f64b8d5",
   "metadata": {},
   "source": [
    "### Train test split\n",
    "https://scikit-learn.org/stable/modules/generated/sklearn.model_selection.train_test_split.html"
   ]
  },
  {
   "cell_type": "code",
   "execution_count": null,
   "id": "e41dd496",
   "metadata": {},
   "outputs": [],
   "source": [
    "xtrain,xtest,ytrain,ytest = train_test_split(x,\n",
    "                                             y,\n",
    "                                             test_size=0.25,\n",
    "                                             random_state=12,\n",
    "                                             stratify = x.sex_m\n",
    "                                             )"
   ]
  },
  {
   "cell_type": "code",
   "execution_count": null,
   "id": "360764eb",
   "metadata": {},
   "outputs": [],
   "source": [
    "std = StandardScaler()"
   ]
  },
  {
   "cell_type": "code",
   "execution_count": null,
   "id": "7ed8a2f8",
   "metadata": {},
   "outputs": [],
   "source": [
    "xtrain[columnas] = std.fit_transform(xtrain[columnas])\n",
    "xtest[columnas] = std.transform(xtest[columnas])"
   ]
  },
  {
   "cell_type": "code",
   "execution_count": null,
   "id": "1c71387e",
   "metadata": {
    "scrolled": true
   },
   "outputs": [],
   "source": [
    "xtrain"
   ]
  },
  {
   "cell_type": "markdown",
   "id": "785b2969",
   "metadata": {},
   "source": [
    "# Regresión lineal"
   ]
  },
  {
   "cell_type": "markdown",
   "id": "4b5a16e2",
   "metadata": {},
   "source": [
    "## Con ordenada"
   ]
  },
  {
   "cell_type": "code",
   "execution_count": null,
   "id": "bd35555e",
   "metadata": {},
   "outputs": [],
   "source": [
    "lr = LinearRegression(fit_intercept=True)"
   ]
  },
  {
   "cell_type": "code",
   "execution_count": null,
   "id": "a1af71ed",
   "metadata": {},
   "outputs": [],
   "source": [
    "lr.fit(xtrain[columnas],ytrain)"
   ]
  },
  {
   "cell_type": "code",
   "execution_count": null,
   "id": "e57b2fe4",
   "metadata": {},
   "outputs": [],
   "source": [
    "lr.coef_"
   ]
  },
  {
   "cell_type": "code",
   "execution_count": null,
   "id": "3f03876f",
   "metadata": {},
   "outputs": [],
   "source": [
    "lr.score(xtrain[columnas],ytrain)"
   ]
  },
  {
   "cell_type": "code",
   "execution_count": null,
   "id": "0ff50262",
   "metadata": {},
   "outputs": [],
   "source": [
    "lr.score(xtest[columnas],ytest)"
   ]
  },
  {
   "cell_type": "code",
   "execution_count": null,
   "id": "3a769365",
   "metadata": {},
   "outputs": [],
   "source": [
    "lr.intercept_"
   ]
  },
  {
   "cell_type": "markdown",
   "id": "ca7dbd36",
   "metadata": {},
   "source": [
    "## Sin ordenada"
   ]
  },
  {
   "cell_type": "code",
   "execution_count": null,
   "id": "bf6e72ef",
   "metadata": {},
   "outputs": [],
   "source": [
    "lr_sin = LinearRegression(fit_intercept=False)"
   ]
  },
  {
   "cell_type": "code",
   "execution_count": null,
   "id": "91f393cd",
   "metadata": {},
   "outputs": [],
   "source": [
    "lr_sin.fit(xtrain[columnas],ytrain)"
   ]
  },
  {
   "cell_type": "code",
   "execution_count": null,
   "id": "f680c20e",
   "metadata": {},
   "outputs": [],
   "source": [
    "lr_sin.coef_"
   ]
  },
  {
   "cell_type": "code",
   "execution_count": null,
   "id": "f87f5911",
   "metadata": {},
   "outputs": [],
   "source": [
    "lr_sin.intercept_"
   ]
  },
  {
   "cell_type": "code",
   "execution_count": null,
   "id": "fbc63ce2",
   "metadata": {},
   "outputs": [],
   "source": [
    "lr_sin.score(xtrain[columnas],ytrain)"
   ]
  },
  {
   "cell_type": "code",
   "execution_count": null,
   "id": "c2422461",
   "metadata": {},
   "outputs": [],
   "source": [
    "lr_sin.score(xtest[columnas],ytest)"
   ]
  },
  {
   "cell_type": "code",
   "execution_count": null,
   "id": "8c2b4495",
   "metadata": {},
   "outputs": [],
   "source": [
    "lr_sin.coef_"
   ]
  },
  {
   "cell_type": "markdown",
   "id": "1d2f949a",
   "metadata": {},
   "source": [
    "Esto quiere decir que esta regresion podemos escribirla como:\n",
    "\n",
    "\\begin{equation}\n",
    "\n",
    "    \\begin{array}{rcl}\n",
    "        \\text{Total Length} &=& -0.128 \\cdot \\text{age} +\n",
    "                                1.701 \\cdot \\text{hdlngth} -\n",
    "                                0.099 \\cdot \\text{skullw} +\n",
    "                                2.116 \\cdot \\text{taill} + \\\\\n",
    "                            & & 0.843 \\cdot \\text{footlgth} +\n",
    "                                0.624 \\cdot \\text{earconch} +\n",
    "                                0.093 \\cdot \\text{eye} +\n",
    "                                0.300 \\cdot \\text{chest} + \\\\\n",
    "                            & & 0.135 \\cdot \\text{belly}\n",
    "    \\end{array}\n",
    "\\end{equation}"
   ]
  }
 ],
 "metadata": {
  "kernelspec": {
   "display_name": "Python 3.10.7 64-bit",
   "language": "python",
   "name": "python3"
  },
  "language_info": {
   "codemirror_mode": {
    "name": "ipython",
    "version": 3
   },
   "file_extension": ".py",
   "mimetype": "text/x-python",
   "name": "python",
   "nbconvert_exporter": "python",
   "pygments_lexer": "ipython3",
   "version": "3.10.11"
  },
  "vscode": {
   "interpreter": {
    "hash": "b5c22da4a52024410f64f9c5a5e2b4ffeeb944a5ed00e8825a42174cdab30315"
   }
  }
 },
 "nbformat": 4,
 "nbformat_minor": 5
}
