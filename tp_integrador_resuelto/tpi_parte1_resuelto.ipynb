{
  "cells": [
    {
      "attachments": {},
      "cell_type": "markdown",
      "id": "07289bb0",
      "metadata": {},
      "source": [
        "# Trabajo integrador - Parte 1\n",
        "## Python y Numpy\n",
        "\n",
        "**Nombre**: Juan Cruz Ferreyra"
      ]
    },
    {
      "cell_type": "code",
      "execution_count": 1,
      "id": "aaf94e0a",
      "metadata": {
        "id": "aaf94e0a"
      },
      "outputs": [],
      "source": [
        "import numpy as np"
      ]
    },
    {
      "attachments": {},
      "cell_type": "markdown",
      "id": "0ffe9554",
      "metadata": {},
      "source": [
        "## Ejercicio 1\n",
        "\n",
        "Dada una matriz en formato *numpy array*, donde cada fila de la matriz representa un vector matemático, se requiere computar las normas $l_0$, $l_1$, $l_2$, $l_{\\infty}$, según la siguientes definiciones:\n",
        "\n",
        "\\begin{equation}\n",
        "    ||\\mathbf{x}||_{p} = \\bigg(\\sum_{j=1}^{n}{|x_i|^p}\\bigg)^{\\frac{1}{p}}\n",
        "\\end{equation}\n",
        "\n",
        "con los casos especiales para $p=0$ y $p=\\infty$ siendo:\n",
        "\n",
        "\\begin{equation}\n",
        "    \\begin{array}{rcl}\n",
        "        ||\\mathbf{x}||_0 & = & \\bigg(\\sum_{j=1 \\wedge x_j != 0}{|x_i|}\\bigg)\\\\\n",
        "        ||\\mathbf{x}||_{\\infty} & = & \\max_{i}{|x_i|}\\\\\n",
        "    \\end{array}\n",
        "\\end{equation}"
      ]
    },
    {
      "cell_type": "code",
      "execution_count": 31,
      "id": "0bdb0ee3",
      "metadata": {},
      "outputs": [],
      "source": [
        "def _validate_p(p):\n",
        "    is_valid = p in [0, 1, 2, np.inf]\n",
        "    if not is_valid:\n",
        "        raise ValueError(\"p must be either 0, 1, 2, np.inf.\")\n",
        "\n",
        "\n",
        "def compute_norm(x: np.array, p: int = 1):\n",
        "    _validate_p(p)\n",
        "    if p == 0:\n",
        "        return np.count_nonzero(x, axis=1)\n",
        "    elif p == np.inf:\n",
        "        return np.max(np.abs(x), axis=1)\n",
        "    else:\n",
        "        return np.sum(np.abs(x) ** p, axis=1) ** (1 / p)"
      ]
    },
    {
      "cell_type": "code",
      "execution_count": 22,
      "metadata": {},
      "outputs": [
        {
          "name": "stdout",
          "output_type": "stream",
          "text": [
            "l0:   [2 3]\n",
            "l1:   [ 7. 19.]\n",
            "l2:   [ 5. 13.]\n",
            "linf: [ 4 12]\n"
          ]
        }
      ],
      "source": [
        "x = np.array([[0, 3, 4], [3, 12, 4]])\n",
        "\n",
        "print(f\"l0:   {compute_norm(x, 0)}\")\n",
        "print(f\"l1:   {compute_norm(x, 1)}\")\n",
        "print(f\"l2:   {compute_norm(x, 2)}\")\n",
        "print(f\"linf: {compute_norm(x, np.inf)}\")"
      ]
    },
    {
      "attachments": {},
      "cell_type": "markdown",
      "id": "dd66d862",
      "metadata": {},
      "source": [
        "## Ejercicio 2\n",
        "\n",
        "En clasificación contamos con dos arreglos, la “verdad” y la “predicción”. Cada elemento de los arreglos pueden tomar dos valores, “True” (representado por 1) y “False” (representado por 0). Entonces podemos definir 4 variables:\n",
        "\n",
        "* True Positive (TP): El valor verdadero es 1 y el valor predicho es 1\n",
        "* True Negative (TN): El valor verdadero es 0 y el valor predicho es 0\n",
        "* False Positive (FP): El valor verdadero es 0 y el valor predicho es 1\n",
        "* False Negative (FN): El valor verdadero es 1 y el valor predicho es 0\n",
        "\n",
        "A partir de esto definimos:\n",
        "\n",
        "* Precision = TP / (TP + FP)\n",
        "* Recall = TP / (TP + FN)\n",
        "* Accuracy = (TP + TN) / (TP + TN + FP + FN)\n",
        " \n",
        "Calcular las 3 métricas con Numpy y operaciones vectorizadas."
      ]
    },
    {
      "cell_type": "code",
      "execution_count": 39,
      "metadata": {},
      "outputs": [],
      "source": [
        "def _validate_arrays(prediction: np.array, truth: np.array):\n",
        "    is_valid = prediction.shape == truth.shape\n",
        "    if not is_valid:\n",
        "        raise ValueError(\"prediction and truth arrays must have the same shape.\")\n",
        "\n",
        "\n",
        "def _validate_metric(metric: str):\n",
        "    is_valid = metric in [\"precision\", \"recall\", \"accuracy\"]\n",
        "    if not is_valid:\n",
        "        raise ValueError(\"p must be either 0, 1, 2, np.inf\")\n",
        "\n",
        "\n",
        "def _cm_metric(x1: np.array, x2: np.array, metric: str):\n",
        "    if metric == \"tp\":\n",
        "        return np.sum((x1 == x2) & (x1 == 1))\n",
        "    elif metric == \"fp\":\n",
        "        return np.sum((x1 != x2) & (x1 == 1))\n",
        "    elif metric == \"tn\":\n",
        "        return np.sum((x1 == x2) & (x1 == 0))\n",
        "    elif metric == \"fn\":\n",
        "        return np.sum((x1 != x2) & (x1 == 0))\n",
        "\n",
        "\n",
        "def calculate_metric(prediction: np.array, truth: np.array, metric: str = \"precision\"):\n",
        "    _validate_arrays(prediction, truth)\n",
        "    _validate_metric(metric)\n",
        "\n",
        "    if metric == \"precision\":\n",
        "        tp = _cm_metric(prediction, truth, \"tp\")\n",
        "        fp = _cm_metric(prediction, truth, \"fp\")\n",
        "        return tp / (tp + fp)\n",
        "    elif metric == \"recall\":\n",
        "        tp = _cm_metric(prediction, truth, \"tp\")\n",
        "        fn = _cm_metric(prediction, truth, \"fn\")\n",
        "        return tp / (tp + fn)\n",
        "    else:\n",
        "        tp = _cm_metric(prediction, truth, \"tp\")\n",
        "        fp = _cm_metric(prediction, truth, \"fp\")\n",
        "        tn = _cm_metric(prediction, truth, \"tn\")\n",
        "        fn = _cm_metric(prediction, truth, \"fn\")\n",
        "        return (tp + tn) / (tp + fp + tn + fn)"
      ]
    },
    {
      "cell_type": "code",
      "execution_count": 40,
      "id": "794dcd58",
      "metadata": {},
      "outputs": [],
      "source": [
        "prediction = np.array([1,1,1,1,0,0,1,1,0,0])\n",
        "truth = np.array([1,1,0,1,1,1,0,0,0,1])"
      ]
    },
    {
      "cell_type": "code",
      "execution_count": 46,
      "metadata": {},
      "outputs": [
        {
          "name": "stdout",
          "output_type": "stream",
          "text": [
            "Precision: 0.5\n",
            "Recall: 0.5\n",
            "Accuracy: 0.4\n"
          ]
        }
      ],
      "source": [
        "print(f\"Precision: {calculate_metric(prediction, truth, 'precision')}\")\n",
        "print(f\"Recall: {calculate_metric(prediction, truth, 'recall')}\")\n",
        "print(f\"Accuracy: {calculate_metric(prediction, truth, 'accuracy')}\")"
      ]
    },
    {
      "attachments": {},
      "cell_type": "markdown",
      "id": "d0ac6f6f",
      "metadata": {},
      "source": [
        "## Ejercicio 3\n",
        "\n",
        "Crear una función que separe los datos en train-validation-test. Debe recibir de parametros:\n",
        "\n",
        "- X: Array o Dataframe que contiene los datos de entrada del sistema.\n",
        "- y: Array o Dataframe que contiene la(s) variable(s) target del problema.\n",
        "- train_percentage: _float_ el porcentaje de training.\n",
        "- test_percentage: _float_ el porcentaje de testing.\n",
        "- val_percentage: _float_ el porcentaje de validación.\n",
        "- shuffle: _bool_ determina si el split debe hacerse de manera random o no.\n",
        "\n",
        "Hints: \n",
        "\n",
        "* Usar Indexing y slicing\n",
        "* Usar np.random.[...]"
      ]
    },
    {
      "cell_type": "code",
      "execution_count": 86,
      "id": "ca85fc66",
      "metadata": {},
      "outputs": [],
      "source": [
        "def _validate_input(X: np.array, y: np.array):\n",
        "    is_valid = X.shape[0] == y.shape[0]\n",
        "    if not is_valid:\n",
        "        raise ValueError(\"Num of observations in 'X' should equal 'y' length.\")\n",
        "    \n",
        "def split(\n",
        "    X_input,\n",
        "    y_input,\n",
        "    train_size=0.7,\n",
        "\n",
        "    val_size=0.15,\n",
        "    test_size=0.15,\n",
        "    random_state=42,\n",
        "    shuffle=True,\n",
        "):\n",
        "    _validate_input(X_input, y_input)\n",
        "    \n",
        "    np.random.seed(random_state)\n",
        "\n",
        "    if shuffle:\n",
        "        idx_permutation = np.random.permutation(len(X_input))\n",
        "\n",
        "        X_input = X_input[idx_permutation]\n",
        "        y_input = y_input[idx_permutation]\n",
        "\n",
        "    train_n = int(train_size * len(X_input))\n",
        "    val_n = int(val_size * len(X_input))\n",
        "\n",
        "    return (\n",
        "        (X_input[:train_n], y_input[:train_n]),\n",
        "        (\n",
        "            X_input[train_n : (train_n + val_n)],\n",
        "            y_input[train_n : (train_n + val_n)],\n",
        "        ),\n",
        "        (X_input[(train_n + val_n) :], y_input[(train_n + val_n) :]),\n",
        "    )"
      ]
    },
    {
      "cell_type": "code",
      "execution_count": 82,
      "metadata": {},
      "outputs": [],
      "source": [
        "# Generate dummy data.\n",
        "X = np.vstack([np.arange(10) * (i + 1) for i in range(100)])\n",
        "y = np.mean(X, axis=1)"
      ]
    },
    {
      "cell_type": "code",
      "execution_count": 87,
      "metadata": {},
      "outputs": [],
      "source": [
        "(X_train, y_train), (X_val, y_val), (X_test, y_test) = split(X, y)"
      ]
    }
  ],
  "metadata": {
    "colab": {
      "collapsed_sections": [],
      "name": "Practica_clase_3.ipynb",
      "provenance": []
    },
    "kernelspec": {
      "display_name": "Python 3.10.7 64-bit",
      "language": "python",
      "name": "python3"
    },
    "language_info": {
      "codemirror_mode": {
        "name": "ipython",
        "version": 3
      },
      "file_extension": ".py",
      "mimetype": "text/x-python",
      "name": "python",
      "nbconvert_exporter": "python",
      "pygments_lexer": "ipython3",
      "version": "3.10.11"
    },
    "vscode": {
      "interpreter": {
        "hash": "b5c22da4a52024410f64f9c5a5e2b4ffeeb944a5ed00e8825a42174cdab30315"
      }
    }
  },
  "nbformat": 4,
  "nbformat_minor": 5
}
